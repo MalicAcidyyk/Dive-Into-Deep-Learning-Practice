{
 "cells": [
  {
   "cell_type": "markdown",
   "id": "ef65621c",
   "metadata": {},
   "source": [
    "#### 导入必要的包"
   ]
  },
  {
   "cell_type": "code",
   "execution_count": 45,
   "id": "6f54ae9a-08e9-4fd7-9b03-276ee10fa9ac",
   "metadata": {},
   "outputs": [],
   "source": [
    "import torch\n",
    "import torchvision\n",
    "import numpy as np\n",
    "import pandas as pd\n",
    "import matplotlib.pyplot as plt\n",
    "from torch import nn, optim\n",
    "from torch.utils import data\n",
    "from torchvision import transforms"
   ]
  },
  {
   "cell_type": "markdown",
   "id": "38170be9",
   "metadata": {},
   "source": [
    "#### 创建累加器"
   ]
  },
  {
   "cell_type": "code",
   "execution_count": 7,
   "id": "e88f6bd5",
   "metadata": {},
   "outputs": [],
   "source": [
    "class Accumulator:\n",
    "    \"\"\"对n个变量进行累加操作\"\"\"\n",
    "\n",
    "    def __init__(self, n):\n",
    "        # 初始化累加器数据\n",
    "        self.data = [0.0] * n\n",
    "\n",
    "    def add(self, *args):\n",
    "        # 将data列表中的每个元素a与args中对应位置的参数b相加，得到新的元素值，组成新的列表\n",
    "        self.data = [a + float(b) for a, b in zip(self.data, args)]\n",
    "\n",
    "    def reset(self):\n",
    "        # 重置累加器数据\n",
    "        self.data = [0.0] * len(self.data)\n",
    "\n",
    "    def __getitem__(self, idx):\n",
    "        # 获取累加器数据\n",
    "        return self.data[idx]"
   ]
  },
  {
   "cell_type": "markdown",
   "id": "a5d08672-1407-4e50-9249-b1f272ba93be",
   "metadata": {},
   "source": [
    "# 多层感知机"
   ]
  },
  {
   "cell_type": "markdown",
   "id": "40561ad7-aa50-4992-8ff2-7d1d444d8d6f",
   "metadata": {},
   "source": [
    "## 加载数据"
   ]
  },
  {
   "cell_type": "code",
   "execution_count": 32,
   "id": "a18f43f7-f37d-4da2-a454-bea9f5fccd8f",
   "metadata": {},
   "outputs": [],
   "source": [
    "def load_data_fashion_mnist(batch_size, resize=None):\n",
    "    \"\"\"下载Fashion-MNIST数据集并将其加载到内存中\"\"\"\n",
    "\n",
    "    # 创建存储图像转换操作的列表，包含ToTensor实例\n",
    "    trans = [transforms.ToTensor()]\n",
    "\n",
    "    if resize:\n",
    "        trans.insert(0, transforms.Resize(resize))  # 将Resize实例加入转换列表\n",
    "    trans = transforms.Compose(trans)  # 将多个图像转换的操作合并\n",
    "\n",
    "    mnist_train = torchvision.datasets.FashionMNIST(\n",
    "        root=\"./data\", train=True, transform=trans, download=True)\n",
    "    mnist_test = torchvision.datasets.FashionMNIST(\n",
    "        root=\"./data\", train=False, transform=trans, download=True)\n",
    "\n",
    "    return (data.DataLoader(mnist_train, batch_size, shuffle=True),\n",
    "            data.DataLoader(mnist_test, batch_size, shuffle=False))"
   ]
  },
  {
   "cell_type": "code",
   "execution_count": 33,
   "id": "392d219c-11f8-4743-a44b-67fed7448600",
   "metadata": {},
   "outputs": [],
   "source": [
    "batch_size = 256\n",
    "\n",
    "train_iter, test_iter = load_data_fashion_mnist(batch_size)"
   ]
  },
  {
   "cell_type": "markdown",
   "id": "7d6b5a6a-c5ce-4fcf-92b5-0ccb5547343b",
   "metadata": {},
   "source": [
    "## 定义模型"
   ]
  },
  {
   "cell_type": "code",
   "execution_count": 5,
   "id": "3457a411-b45a-433e-a3c5-60f9bd61f8fc",
   "metadata": {},
   "outputs": [
    {
     "data": {
      "text/plain": [
       "Sequential(\n",
       "  (0): Flatten(start_dim=1, end_dim=-1)\n",
       "  (1): Linear(in_features=784, out_features=256, bias=True)\n",
       "  (2): ReLU()\n",
       "  (3): Linear(in_features=256, out_features=10, bias=True)\n",
       ")"
      ]
     },
     "execution_count": 5,
     "metadata": {},
     "output_type": "execute_result"
    }
   ],
   "source": [
    "from torch import nn\n",
    "net = nn.Sequential(nn.Flatten(),\n",
    "                    nn.Linear(784, 256),\n",
    "                    nn.ReLU(),\n",
    "                    nn.Linear(256, 10))\n",
    "\n",
    "\n",
    "def init_weight(m):\n",
    "    \"\"\"对权重正态分布初始化\"\"\"\n",
    "    if type(m) == nn.Linear:\n",
    "        nn.init.normal_(m.weight, std=0.01)\n",
    "\n",
    "\n",
    "net.apply(init_weight)"
   ]
  },
  {
   "cell_type": "markdown",
   "id": "8da5aa6b-58cb-4606-b933-6ad48de2f304",
   "metadata": {},
   "source": [
    "## 损失函数"
   ]
  },
  {
   "cell_type": "code",
   "execution_count": 7,
   "id": "e841a8a1-7764-4437-adea-e812c91151c8",
   "metadata": {},
   "outputs": [],
   "source": [
    "loss = nn.CrossEntropyLoss()"
   ]
  },
  {
   "cell_type": "markdown",
   "id": "2924e8fd-cbe9-464a-a32e-8e08213a3835",
   "metadata": {},
   "source": [
    "## 优化算法"
   ]
  },
  {
   "cell_type": "code",
   "execution_count": 9,
   "id": "00ebf835-a388-463c-88fc-6fc77ab8097e",
   "metadata": {},
   "outputs": [],
   "source": [
    "lr = 0.1\n",
    "trainer = torch.optim.SGD(net.parameters(), lr=lr)"
   ]
  },
  {
   "cell_type": "markdown",
   "id": "bb6d79ee-e9af-4692-8ea4-5f2c6d3baea0",
   "metadata": {},
   "source": [
    "## 训练函数"
   ]
  },
  {
   "cell_type": "code",
   "execution_count": 12,
   "id": "b52434ac-7d22-409c-821c-ad65b9f9368d",
   "metadata": {},
   "outputs": [],
   "source": [
    "def train_epoch(net, train_iter, loss, updater):\n",
    "    \"\"\"训练模型一个迭代周期\"\"\"\n",
    "\n",
    "    # 设置为训练模式\n",
    "    if isinstance(net, torch.nn.Module):\n",
    "        net.train()\n",
    "\n",
    "        # 初始化\n",
    "    total_loss = 0.0\n",
    "    total_correct = 0\n",
    "    total_samples = 0\n",
    "\n",
    "    for X, y in train_iter:\n",
    "        # 计算梯度并更新参数\n",
    "        y_hat = net(X)\n",
    "        batch_loss = loss(y_hat, y)\n",
    "        updater.zero_grad()\n",
    "        batch_loss.backward()  # 反向传播\n",
    "        updater.step()  # 更新参数\n",
    "\n",
    "        total_loss += batch_loss.item() * y.numel()  # 计算训练集总损失\n",
    "        total_correct += (y_hat.argmax(1) == y).sum().item()  # 计算正确预测总数\n",
    "        total_samples += y.numel()  # 计算总样本数\n",
    "\n",
    "    average_loss = total_loss / total_samples  # 计算训练集上平均损失\n",
    "\n",
    "    # 计算训练集上的准确度\n",
    "    train_acc = total_correct / total_samples\n",
    "\n",
    "    # 返回平均损失和训练集上的准确度\n",
    "    return average_loss, train_acc"
   ]
  },
  {
   "cell_type": "code",
   "execution_count": 32,
   "id": "d1121c77-6df5-48c2-bce3-2de588761b0d",
   "metadata": {},
   "outputs": [],
   "source": [
    "def train(net, train_iter, test_iter, loss, num_epochs, updater):\n",
    "    \"\"\"训练模型\"\"\"\n",
    "    # 创建空列表用于存储评估指标\n",
    "    epochs = []\n",
    "    losses = []\n",
    "    train_acc_ = []\n",
    "    test_acc_ = []\n",
    "\n",
    "    for epoch in range(num_epochs):\n",
    "        train_loss, train_acc = train_epoch(net, train_iter, loss, updater)\n",
    "        test_acc = evaluate_accuracy(net, test_iter)\n",
    "\n",
    "        epochs.append(epoch + 1)\n",
    "        losses.append(train_loss)\n",
    "        train_acc_.append(train_acc)\n",
    "        test_acc_.append(test_acc)\n",
    "\n",
    "        train_loss = round(train_loss, 4)\n",
    "        train_acc = round(train_acc, 4)\n",
    "        test_acc = round(test_acc, 4)\n",
    "\n",
    "        print(\n",
    "            f'epoch[{epoch + 1}/{num_epochs}], loss={train_loss} Train Accuracy={train_acc} Test Accuracy={test_acc}')\n",
    "\n",
    "        # 可视化\n",
    "    plt.figure(figsize=(8, 6))\n",
    "\n",
    "    plt.plot(epochs, losses, 'o-', color='#39C5BB', lw=2, label='Loss')\n",
    "    plt.plot(epochs, train_acc_, '.--', color='#FFE211',\n",
    "             lw=2, label='Train Accuracy')\n",
    "    plt.plot(epochs, test_acc_, '.--', color='#FAAFBE',\n",
    "             lw=2, label='Test Accuracy')\n",
    "\n",
    "    plt.xticks(np.arange(0, num_epochs+1, 1))\n",
    "    plt.xlabel('Epoch')\n",
    "    plt.ylabel('Metric')\n",
    "    plt.legend()\n",
    "    plt.grid(axis='y')\n",
    "\n",
    "    plt.show()\n",
    "\n",
    "    print('训练完成！')"
   ]
  },
  {
   "cell_type": "markdown",
   "id": "9ba328db-ff1d-47a8-ac8f-bbe2b9899f74",
   "metadata": {},
   "source": [
    "## 评估函数"
   ]
  },
  {
   "cell_type": "code",
   "execution_count": 42,
   "id": "af13ff41-7a8b-4f2d-80e0-f110bb1b4b25",
   "metadata": {},
   "outputs": [],
   "source": [
    "def accuracy(y_hat, y):\n",
    "    \"\"\"计算正确预测的数量\"\"\"\n",
    "\n",
    "    # 获取模型预测的分类标签（概率最大的类别）\n",
    "    if len(y_hat.shape) > 1 and y_hat.shape[1] > 1:\n",
    "        y_hat = y_hat.argmax(axis=1)\n",
    "\n",
    "    # 判断是否预测正确\n",
    "    cmp = (y_hat.type(y.dtype) == y)\n",
    "\n",
    "    # 输出正确预测的总数\n",
    "    return float(cmp.sum())"
   ]
  },
  {
   "cell_type": "code",
   "execution_count": 43,
   "id": "44fbc554-2ea7-4d4a-97df-2e6e96560b62",
   "metadata": {},
   "outputs": [],
   "source": [
    "def evaluate_accuracy(net, data_iter):\n",
    "    \"\"\"计算模型准确度\"\"\"\n",
    "    if isinstance(net, torch.nn.Module):\n",
    "        net.eval()  # 将模型设置为评估模式\n",
    "\n",
    "    # 初始化\n",
    "    total_accuracy = 0\n",
    "    total_sample = 0\n",
    "\n",
    "    with torch.no_grad():\n",
    "        for X, y in data_iter:\n",
    "            total_accuracy += accuracy(net(X), y)  # 添加正确预测数\n",
    "            total_sample += y.numel()  # 添加样本数\n",
    "\n",
    "    # 返回预测正确率\n",
    "    return total_accuracy / total_sample"
   ]
  },
  {
   "cell_type": "markdown",
   "id": "08af1eb8-9e44-4079-99d1-49a36908e59b",
   "metadata": {},
   "source": [
    "## 训练"
   ]
  },
  {
   "cell_type": "code",
   "execution_count": 23,
   "id": "b7dd6cf1-7bfa-46d4-8a5b-5b33ea4d4335",
   "metadata": {},
   "outputs": [
    {
     "name": "stdout",
     "output_type": "stream",
     "text": [
      "epoch[1/10], loss=0.5996 Train Accuracy=0.7898 Test Accuracy=0.8004\n",
      "epoch[2/10], loss=0.5195 Train Accuracy=0.8187 Test Accuracy=0.7959\n",
      "epoch[3/10], loss=0.48 Train Accuracy=0.8323 Test Accuracy=0.7414\n",
      "epoch[4/10], loss=0.4549 Train Accuracy=0.8406 Test Accuracy=0.8299\n",
      "epoch[5/10], loss=0.4303 Train Accuracy=0.8479 Test Accuracy=0.834\n",
      "epoch[6/10], loss=0.4161 Train Accuracy=0.8535 Test Accuracy=0.843\n",
      "epoch[7/10], loss=0.402 Train Accuracy=0.8581 Test Accuracy=0.8411\n",
      "epoch[8/10], loss=0.3902 Train Accuracy=0.8614 Test Accuracy=0.8459\n",
      "epoch[9/10], loss=0.3812 Train Accuracy=0.8645 Test Accuracy=0.8526\n",
      "epoch[10/10], loss=0.3738 Train Accuracy=0.8679 Test Accuracy=0.8521\n"
     ]
    },
    {
     "data": {
      "image/png": "[encoded data removed]",
      "text/plain": [
       "<Figure size 800x600 with 1 Axes>"
      ]
     },
     "metadata": {},
     "output_type": "display_data"
    },
    {
     "name": "stdout",
     "output_type": "stream",
     "text": [
      "训练完成！\n"
     ]
    }
   ],
   "source": [
    "num_epochs = 10\n",
    "train(net, train_iter, test_iter, loss, num_epochs, trainer)"
   ]
  },
  {
   "cell_type": "markdown",
   "id": "b1951ac3",
   "metadata": {},
   "source": [
    "# 正则化"
   ]
  },
  {
   "cell_type": "markdown",
   "id": "3b2fe39c",
   "metadata": {},
   "source": [
    "## 生成数据"
   ]
  },
  {
   "cell_type": "code",
   "execution_count": 21,
   "id": "ae658c8c",
   "metadata": {},
   "outputs": [],
   "source": [
    "def synthetic_data(w, b, num_examples):\n",
    "    \"\"\"生成y=Xw+b+噪声\"\"\"\n",
    "    X = torch.normal(0, 1, (num_examples, len(w)))\n",
    "    y = torch.matmul(X, w) + b\n",
    "    y += torch.normal(0, 0.01, y.shape)  # 添加一些噪声\n",
    "    return X, y.reshape((-1, 1))"
   ]
  },
  {
   "cell_type": "code",
   "execution_count": 22,
   "id": "61ba9961",
   "metadata": {},
   "outputs": [],
   "source": [
    "def load_array(data_arrays, batch_size, is_train=True):\n",
    "    \"\"\"构造一个数据迭代器\"\"\"\n",
    "    dataset = data.TensorDataset(*data_arrays)  # \"*\"表示解压可迭代对象\n",
    "    return data.DataLoader(dataset, batch_size, shuffle=is_train)"
   ]
  },
  {
   "cell_type": "code",
   "execution_count": 23,
   "id": "e04a0e4c",
   "metadata": {},
   "outputs": [],
   "source": [
    "n_train, n_test, num_inputs, batch_size = 20, 100, 200, 5  # 设置200维输入\n",
    "true_w, true_b = torch.ones(num_inputs, 1) * 0.01, 0.05\n",
    "\n",
    "train_data = synthetic_data(true_w, true_b, n_train)\n",
    "train_iter = load_array(train_data, batch_size)\n",
    "test_data = synthetic_data(true_w, true_b, n_test)\n",
    "test_iter = load_array(test_data, batch_size, is_train=False)"
   ]
  },
  {
   "cell_type": "markdown",
   "id": "53d161f3",
   "metadata": {},
   "source": [
    "## 评估函数"
   ]
  },
  {
   "cell_type": "code",
   "execution_count": 24,
   "id": "053ec8c2",
   "metadata": {},
   "outputs": [],
   "source": [
    "def evaluate_loss(net, data_iter, loss):\n",
    "    \"\"\"评估在指定数据集上模型的损失\"\"\"\n",
    "    metric = Accumulator(2)\n",
    "    for X, y in data_iter:\n",
    "        out = net(X)\n",
    "        y = y.reshape(out.shape)\n",
    "        l = loss(out, y)\n",
    "        metric.add(l.sum(), l.numel())\n",
    "    return metric[0] / metric[1]"
   ]
  },
  {
   "cell_type": "markdown",
   "id": "0d05a1cf",
   "metadata": {},
   "source": [
    "## 训练函数"
   ]
  },
  {
   "cell_type": "code",
   "execution_count": 28,
   "id": "b31004bc",
   "metadata": {},
   "outputs": [],
   "source": [
    "def train(wd):\n",
    "    \"\"\"带正则化训练模型\"\"\"\n",
    "\n",
    "    net = nn.Sequential(nn.Linear(num_inputs, 1))\n",
    "\n",
    "    # 初始化模型参数\n",
    "    for param in net.parameters():\n",
    "        param.data.normal_()\n",
    "\n",
    "    # 损失函数\n",
    "    loss = nn.MSELoss(reduction='none')\n",
    "\n",
    "    # 训练轮数，学习率\n",
    "    num_epochs, lr = 100, 0.003\n",
    "\n",
    "    # 优化器\n",
    "    trainer = optim.SGD([\n",
    "        {'params': net[0].weight, 'weight_decay': wd},\n",
    "        {'params': net[0].bias}], lr=lr)  # 不对偏置参数正则化\n",
    "\n",
    "    # 创建空列表存储损失\n",
    "    epochs = []\n",
    "    train_losses = []\n",
    "    test_losses = []\n",
    "\n",
    "    for epoch in range(num_epochs):\n",
    "        for X, y in train_iter:\n",
    "            trainer.zero_grad()\n",
    "            l = loss(net(X), y)\n",
    "            l.mean().backward()\n",
    "            trainer.step()\n",
    "\n",
    "        train_loss = evaluate_loss(net, train_iter, loss)\n",
    "        test_loss = evaluate_loss(net, test_iter, loss)\n",
    "\n",
    "        epochs.append(epoch+1)\n",
    "        train_losses.append(train_loss)\n",
    "        test_losses.append(test_loss)\n",
    "\n",
    "    print('w的L2范数', net[0].weight.norm().item())\n",
    "\n",
    "    # 绘制损失曲线\n",
    "    plt.plot(epochs, train_losses, label='train loss')\n",
    "    plt.plot(epochs, test_losses, label='test loss')\n",
    "    plt.xlabel('epoch')\n",
    "    plt.ylabel('loss')\n",
    "    plt.legend()\n",
    "    plt.show()"
   ]
  },
  {
   "cell_type": "markdown",
   "id": "8a3734a9",
   "metadata": {},
   "source": [
    "## 训练"
   ]
  },
  {
   "cell_type": "code",
   "execution_count": 29,
   "id": "a86231d2",
   "metadata": {},
   "outputs": [
    {
     "name": "stdout",
     "output_type": "stream",
     "text": [
      "w的L2范数 12.703042984008789\n"
     ]
    },
    {
     "data": {
      "image/png": "[encoded data removed]",
      "text/plain": [
       "<Figure size 640x480 with 1 Axes>"
      ]
     },
     "metadata": {},
     "output_type": "display_data"
    }
   ],
   "source": [
    "# 不使用正则化\n",
    "train(0)"
   ]
  },
  {
   "cell_type": "code",
   "execution_count": 31,
   "id": "1c59a415",
   "metadata": {},
   "outputs": [
    {
     "name": "stdout",
     "output_type": "stream",
     "text": [
      "w的L2范数 0.3658447563648224\n"
     ]
    },
    {
     "data": {
      "image/png": "[encoded data removed]",
      "text/plain": [
       "<Figure size 640x480 with 1 Axes>"
      ]
     },
     "metadata": {},
     "output_type": "display_data"
    }
   ],
   "source": [
    "# 使用正则化\n",
    "train(3)"
   ]
  },
  {
   "cell_type": "markdown",
   "id": "0fcba0d7-46a4-4723-af7c-294658268544",
   "metadata": {},
   "source": [
    "# Dropout"
   ]
  },
  {
   "cell_type": "markdown",
   "id": "9e150732",
   "metadata": {},
   "source": [
    "## 加载数据"
   ]
  },
  {
   "cell_type": "code",
   "execution_count": 34,
   "id": "660e0010",
   "metadata": {},
   "outputs": [],
   "source": [
    "batch_size = 256\n",
    "\n",
    "train_iter, test_iter = load_data_fashion_mnist(batch_size)"
   ]
  },
  {
   "cell_type": "markdown",
   "id": "6e313c6b",
   "metadata": {},
   "source": [
    "## 模型参数"
   ]
  },
  {
   "cell_type": "code",
   "execution_count": 46,
   "id": "ab83823e",
   "metadata": {},
   "outputs": [],
   "source": [
    "# 输入层、输出层、隐藏层维度\n",
    "input_dim = 28 * 28\n",
    "hidden1_dim = 256\n",
    "hidden2_dim = 256\n",
    "output_dim = 10\n",
    "\n",
    "# dropout概率\n",
    "dropout1 = 0.5\n",
    "dropout2 = 0.2"
   ]
  },
  {
   "cell_type": "markdown",
   "id": "e315ae0b",
   "metadata": {},
   "source": [
    "## 定义模型"
   ]
  },
  {
   "cell_type": "code",
   "execution_count": 50,
   "id": "29b3fa76-42d8-4872-ac4f-8706d9fe1254",
   "metadata": {},
   "outputs": [
    {
     "data": {
      "text/plain": [
       "Sequential(\n",
       "  (0): Flatten(start_dim=1, end_dim=-1)\n",
       "  (1): Linear(in_features=784, out_features=256, bias=True)\n",
       "  (2): ReLU()\n",
       "  (3): Dropout(p=0.5, inplace=False)\n",
       "  (4): Linear(in_features=256, out_features=256, bias=True)\n",
       "  (5): ReLU()\n",
       "  (6): Dropout(p=0.2, inplace=False)\n",
       "  (7): Linear(in_features=256, out_features=10, bias=True)\n",
       ")"
      ]
     },
     "execution_count": 50,
     "metadata": {},
     "output_type": "execute_result"
    }
   ],
   "source": [
    "net = nn.Sequential(nn.Flatten(),\n",
    "                    nn.Linear(input_dim, hidden1_dim),\n",
    "                    nn.ReLU(),\n",
    "                    # 在第一个全连接层后添加Dropout层\n",
    "                    nn.Dropout(dropout1),\n",
    "                    nn.Linear(hidden1_dim, hidden2_dim),\n",
    "                    nn.ReLU(),\n",
    "                    # 在第二个全连接层后添加Dropout层\n",
    "                    nn.Dropout(dropout2),\n",
    "                    nn.Linear(hidden2_dim, output_dim))\n",
    "\n",
    "# 初始化模型参数\n",
    "\n",
    "\n",
    "def init_weights(m):\n",
    "    if type(m) == nn.Linear:\n",
    "        nn.init.normal_(m.weight, std=0.01)\n",
    "\n",
    "\n",
    "net.apply(init_weights)"
   ]
  },
  {
   "cell_type": "markdown",
   "id": "1494c82a",
   "metadata": {},
   "source": [
    "## 损失函数"
   ]
  },
  {
   "cell_type": "code",
   "execution_count": 51,
   "id": "f9a6dc9b",
   "metadata": {},
   "outputs": [],
   "source": [
    "loss = nn.CrossEntropyLoss()"
   ]
  },
  {
   "cell_type": "markdown",
   "id": "9f7e397a",
   "metadata": {},
   "source": [
    "## 优化算法"
   ]
  },
  {
   "cell_type": "code",
   "execution_count": 52,
   "id": "2bad7d43",
   "metadata": {},
   "outputs": [],
   "source": [
    "lr = 0.1\n",
    "optimizer = torch.optim.SGD(net.parameters(), lr=lr)"
   ]
  },
  {
   "cell_type": "markdown",
   "id": "cc529136",
   "metadata": {},
   "source": [
    "## 训练函数"
   ]
  },
  {
   "cell_type": "code",
   "execution_count": 53,
   "id": "5720a765",
   "metadata": {},
   "outputs": [],
   "source": [
    "def train_epoch(net, train_iter, loss, optimizer):\n",
    "    \"\"\"训练模型一个迭代周期\"\"\"\n",
    "\n",
    "    # 设置为训练模式\n",
    "    net.train()\n",
    "\n",
    "    # 初始化\n",
    "    total_loss = 0.0\n",
    "    total_correct = 0\n",
    "    total_samples = 0\n",
    "\n",
    "    for X, y in train_iter:\n",
    "        # 计算梯度并更新参数\n",
    "        y_hat = net(X)\n",
    "        batch_loss = loss(y_hat, y)\n",
    "        optimizer.zero_grad()\n",
    "        batch_loss.backward()  # 反向传播\n",
    "        optimizer.step()  # 更新参数\n",
    "\n",
    "        total_loss += batch_loss.item() * y.numel()  # 计算训练集总损失\n",
    "        total_correct += (y_hat.argmax(1) == y).sum().item()  # 计算正确预测总数\n",
    "        total_samples += y.numel()  # 计算总样本数\n",
    "\n",
    "    # 计算训练集上平均损失\n",
    "    average_loss = total_loss / total_samples\n",
    "\n",
    "    # 计算训练集上的准确度\n",
    "    train_acc = total_correct / total_samples\n",
    "\n",
    "    # 返回平均损失和训练集上的准确度\n",
    "    return average_loss, train_acc"
   ]
  },
  {
   "cell_type": "code",
   "execution_count": 54,
   "id": "1513a8e8",
   "metadata": {},
   "outputs": [],
   "source": [
    "def train(net, train_iter, test_iter, loss, num_epochs, optimizer):\n",
    "    \"\"\"训练模型\"\"\"\n",
    "    # 创建空列表用于存储评估指标\n",
    "    epochs = []\n",
    "    losses = []\n",
    "    train_acc_ = []\n",
    "    test_acc_ = []\n",
    "\n",
    "    for epoch in range(num_epochs):\n",
    "        train_loss, train_acc = train_epoch(net, train_iter, loss, optimizer)\n",
    "        test_acc = evaluate_accuracy(net, test_iter)\n",
    "\n",
    "        epochs.append(epoch + 1)\n",
    "        losses.append(train_loss)\n",
    "        train_acc_.append(train_acc)\n",
    "        test_acc_.append(test_acc)\n",
    "\n",
    "        train_loss = round(train_loss, 4)\n",
    "        train_acc = round(train_acc, 4)\n",
    "        test_acc = round(test_acc, 4)\n",
    "\n",
    "        print(\n",
    "            f'epoch[{epoch + 1}/{num_epochs}], loss={train_loss} Train Accuracy={train_acc} Test Accuracy={test_acc}')\n",
    "\n",
    "        # 可视化\n",
    "    plt.figure(figsize=(8, 6))\n",
    "\n",
    "    plt.plot(epochs, losses, 'o-', color='#39C5BB', lw=2, label='Loss')\n",
    "    plt.plot(epochs, train_acc_, '.--', color='#FFE211',\n",
    "             lw=2, label='Train Accuracy')\n",
    "    plt.plot(epochs, test_acc_, '.--', color='#FAAFBE',\n",
    "             lw=2, label='Test Accuracy')\n",
    "\n",
    "    plt.xticks(np.arange(0, num_epochs+1, 1))\n",
    "    plt.xlabel('Epoch')\n",
    "    plt.ylabel('Metric')\n",
    "    plt.legend()\n",
    "    plt.grid(axis='y')\n",
    "\n",
    "    plt.show()\n",
    "\n",
    "    print('训练完成！')"
   ]
  },
  {
   "cell_type": "markdown",
   "id": "3b601f97",
   "metadata": {},
   "source": [
    "## 训练"
   ]
  },
  {
   "cell_type": "code",
   "execution_count": 55,
   "id": "e6f6dc24-d3ec-44c2-b637-b823f0b92e9b",
   "metadata": {},
   "outputs": [
    {
     "name": "stdout",
     "output_type": "stream",
     "text": [
      "epoch[1/10], loss=1.7563 Train Accuracy=0.3212 Test Accuracy=0.5916\n",
      "epoch[2/10], loss=0.8936 Train Accuracy=0.6603 Test Accuracy=0.7484\n",
      "epoch[3/10], loss=0.6956 Train Accuracy=0.7432 Test Accuracy=0.758\n",
      "epoch[4/10], loss=0.5976 Train Accuracy=0.7837 Test Accuracy=0.8065\n",
      "epoch[5/10], loss=0.5401 Train Accuracy=0.8076 Test Accuracy=0.8144\n",
      "epoch[6/10], loss=0.5015 Train Accuracy=0.8238 Test Accuracy=0.8269\n",
      "epoch[7/10], loss=0.4728 Train Accuracy=0.8308 Test Accuracy=0.8324\n",
      "epoch[8/10], loss=0.454 Train Accuracy=0.8377 Test Accuracy=0.8357\n",
      "epoch[9/10], loss=0.438 Train Accuracy=0.8444 Test Accuracy=0.8441\n",
      "epoch[10/10], loss=0.4259 Train Accuracy=0.8474 Test Accuracy=0.841\n"
     ]
    },
    {
     "data": {
      "image/png": "[encoded data removed]",
      "text/plain": [
       "<Figure size 800x600 with 1 Axes>"
      ]
     },
     "metadata": {},
     "output_type": "display_data"
    },
    {
     "name": "stdout",
     "output_type": "stream",
     "text": [
      "训练完成！\n"
     ]
    }
   ],
   "source": [
    "num_epochs = 10\n",
    "train(net, train_iter, test_iter, loss, num_epochs, optimizer)"
   ]
  },
  {
   "cell_type": "markdown",
   "id": "c1df9060-6abf-478f-a3ae-f8246b417801",
   "metadata": {},
   "source": [
    "# 练习：鸢尾花分类"
   ]
  },
  {
   "cell_type": "code",
   "execution_count": 130,
   "id": "6b02154e-98de-4f44-9a08-e52e2a7f16f8",
   "metadata": {},
   "outputs": [],
   "source": [
    "import torch\n",
    "from torch import nn\n",
    "from torch import optim\n",
    "from torch.utils.data import DataLoader, TensorDataset\n",
    "from sklearn.datasets import load_iris\n",
    "from sklearn.model_selection import train_test_split\n",
    "import matplotlib.pyplot as plt"
   ]
  },
  {
   "cell_type": "markdown",
   "id": "c7d040a7-f9f2-412a-afe6-c9d7de4fd965",
   "metadata": {},
   "source": [
    "## 加载数据"
   ]
  },
  {
   "cell_type": "code",
   "execution_count": 132,
   "id": "41eedd73-eb9c-4993-bfbd-2c41bfe39620",
   "metadata": {},
   "outputs": [],
   "source": [
    "# 读取数据集\n",
    "iris = load_iris()\n",
    "X, y = iris.data, iris.target\n",
    "\n",
    "# 划分数据集\n",
    "X_train, X_test, y_train, y_test = train_test_split(\n",
    "    X, y, test_size=0.2, random_state=8964)\n",
    "\n",
    "# 转换为张量\n",
    "X_train = torch.FloatTensor(X_train)\n",
    "y_train = torch.LongTensor(y_train)\n",
    "X_test = torch.FloatTensor(X_test)\n",
    "y_test = torch.LongTensor(y_test)\n",
    "\n",
    "# 加载数据\n",
    "train_dataset = TensorDataset(X_train, y_train)\n",
    "test_dataset = TensorDataset(X_test, y_test)\n",
    "train_loader = DataLoader(dataset=train_dataset, batch_size=16, shuffle=True)\n",
    "test_loader = DataLoader(dataset=test_dataset, batch_size=16, shuffle=False)"
   ]
  },
  {
   "cell_type": "code",
   "execution_count": 133,
   "id": "7e43db4a-e97a-4029-93d8-cb4d5e7a5769",
   "metadata": {},
   "outputs": [
    {
     "data": {
      "text/plain": [
       "torch.Size([120, 4])"
      ]
     },
     "execution_count": 133,
     "metadata": {},
     "output_type": "execute_result"
    }
   ],
   "source": [
    "X_train.shape"
   ]
  },
  {
   "cell_type": "markdown",
   "id": "cca4ea93-91b4-403a-86a4-0f7c76fd93c3",
   "metadata": {},
   "source": [
    "## 定义模型"
   ]
  },
  {
   "cell_type": "code",
   "execution_count": 134,
   "id": "07bee37d-797b-4350-ada0-8dd90101b058",
   "metadata": {},
   "outputs": [],
   "source": [
    "net = nn.Sequential(nn.Linear(input_dim, hidden_dim),\n",
    "                    nn.ReLU(),\n",
    "                    nn.Linear(hidden_dim, output_dim))\n",
    "\n",
    "# 设置输入层、隐藏层、输出层维度\n",
    "input_dim = X_train.shape[1]\n",
    "hidden_dim = 32\n",
    "output_dim = len(iris.target_names)\n",
    "\n",
    "# 权重初始化\n",
    "\n",
    "\n",
    "def init_weight(m):\n",
    "    if type(m) == nn.Linear:\n",
    "        nn.init.normal_(m.weight, std=0.01)\n",
    "\n",
    "\n",
    "# 定义损失函数和优化器\n",
    "loss = nn.CrossEntropyLoss()\n",
    "optimizer = optim.Adam(net.parameters(), lr=0.001)"
   ]
  },
  {
   "cell_type": "markdown",
   "id": "bf90c8e9-2c4e-4704-adde-6a2e8838d403",
   "metadata": {},
   "source": [
    "## 训练函数"
   ]
  },
  {
   "cell_type": "code",
   "execution_count": 135,
   "id": "e3a8c3b3-b888-4ecb-8a0b-673bf93b2ad2",
   "metadata": {},
   "outputs": [],
   "source": [
    "def train_epoch(net, train_loader, loss, optimizer):\n",
    "    \"\"\"训练模型一个迭代周期\"\"\"\n",
    "\n",
    "    net.train()  # 设为训练模式\n",
    "\n",
    "# 初始化\n",
    "    total_loss = 0.0\n",
    "    train_correct = 0\n",
    "    train_samples = 0\n",
    "    test_correct = 0\n",
    "    test_samples = 0\n",
    "\n",
    "    for X, y in train_loader:\n",
    "        # 计算梯度并更新参数\n",
    "        y_hat = net(X)\n",
    "        batch_loss = loss(y_hat, y)\n",
    "        optimizer.zero_grad()\n",
    "        batch_loss.backward()\n",
    "        optimizer.step()\n",
    "\n",
    "        total_loss += batch_loss.item() * y.numel()  # 计算训练集总损失\n",
    "        train_correct += (y_hat.argmax(1) == y).sum().item()  # 计算训练集正确预测总数\n",
    "        train_samples += y.numel()  # 计算训练集总样本数\n",
    "\n",
    "    train_loss = total_loss / train_samples  # 计算训练集平均损失\n",
    "    train_acc = train_correct / train_samples  # 计算训练集准确度\n",
    "\n",
    "    # 计算测试集上的准确度\n",
    "    net.eval()  # 设为评估模式\n",
    "    with torch.no_grad():\n",
    "        for X, y in test_loader:\n",
    "            y_hat = net(X)\n",
    "            test_correct += (y_hat.argmax(1) == y).sum().item()  # 计算测试集正确预测总数\n",
    "            test_samples += y.numel()  # 计算测试集总样本数\n",
    "\n",
    "        test_acc = test_correct / test_samples  # 计算测试集准确度\n",
    "\n",
    "# 返回训练集平均损失、训练集准确度、测试集准确度\n",
    "    return train_loss, train_acc, test_acc"
   ]
  },
  {
   "cell_type": "code",
   "execution_count": 136,
   "id": "ee03eb65-cd2e-4a45-b99a-834bc4a4c0ec",
   "metadata": {},
   "outputs": [],
   "source": [
    "def train(net, train_loader, test_loader, loss, num_epochs, optimizer):\n",
    "    \"\"\"训练模型\"\"\"\n",
    "    # 创建空列表用于存储评估指标\n",
    "    epochs = []\n",
    "    losses = []\n",
    "    train_acc_ = []\n",
    "    test_acc_ = []\n",
    "\n",
    "    for epoch in range(num_epochs):\n",
    "        train_loss, train_acc, test_acc = train_epoch(\n",
    "            net, train_loader, loss, optimizer)\n",
    "\n",
    "        epochs.append(epoch + 1)\n",
    "        losses.append(train_loss)\n",
    "        train_acc_.append(train_acc)\n",
    "        test_acc_.append(test_acc)\n",
    "\n",
    "        train_loss = round(train_loss, 4)\n",
    "        train_acc = round(train_acc, 4)\n",
    "        test_acc = round(test_acc, 4)\n",
    "\n",
    "        print(\n",
    "            f'epoch[{epoch + 1}/{num_epochs}], loss={train_loss} Train Accuracy={train_acc} Test Accuracy={test_acc}')\n",
    "\n",
    "        # 可视化\n",
    "    plt.figure(figsize=(12, 5))\n",
    "\n",
    "    plt.plot(epochs, losses, '.-', color='#39C5BB', lw=2, label='Loss')\n",
    "    plt.plot(epochs, train_acc_, '.--', color='#FFE211',\n",
    "             lw=2, label='Train Accuracy')\n",
    "    plt.plot(epochs, test_acc_, '.--', color='#FAAFBE',\n",
    "             lw=2, label='Test Accuracy')\n",
    "\n",
    "    plt.xticks(np.arange(0, num_epochs+1, 10))\n",
    "    plt.xlabel('Epoch')\n",
    "    plt.ylabel('Metric')\n",
    "    plt.legend()\n",
    "    plt.grid(axis='y')\n",
    "\n",
    "    plt.show()\n",
    "\n",
    "    print('训练完成！')"
   ]
  },
  {
   "cell_type": "markdown",
   "id": "80aedfd8-bc2d-4da6-a68e-4abf48cef4d1",
   "metadata": {},
   "source": [
    "## 训练"
   ]
  },
  {
   "cell_type": "code",
   "execution_count": 137,
   "id": "6455a3c1-3094-4b6c-a3f5-43dddd72d41f",
   "metadata": {},
   "outputs": [
    {
     "name": "stdout",
     "output_type": "stream",
     "text": [
      "epoch[1/100], loss=1.103 Train Accuracy=0.3417 Test Accuracy=0.3\n",
      "epoch[2/100], loss=1.0995 Train Accuracy=0.3417 Test Accuracy=0.3\n",
      "epoch[3/100], loss=1.0954 Train Accuracy=0.3417 Test Accuracy=0.3\n",
      "epoch[4/100], loss=1.0893 Train Accuracy=0.3417 Test Accuracy=0.3\n",
      "epoch[5/100], loss=1.0813 Train Accuracy=0.3417 Test Accuracy=0.3\n",
      "epoch[6/100], loss=1.0681 Train Accuracy=0.3417 Test Accuracy=0.3\n",
      "epoch[7/100], loss=1.0518 Train Accuracy=0.45 Test Accuracy=0.6333\n",
      "epoch[8/100], loss=1.0297 Train Accuracy=0.675 Test Accuracy=0.6333\n",
      "epoch[9/100], loss=1.0016 Train Accuracy=0.675 Test Accuracy=0.6333\n",
      "epoch[10/100], loss=0.9703 Train Accuracy=0.675 Test Accuracy=0.6333\n",
      "epoch[11/100], loss=0.9345 Train Accuracy=0.675 Test Accuracy=0.6333\n",
      "epoch[12/100], loss=0.8956 Train Accuracy=0.675 Test Accuracy=0.6333\n",
      "epoch[13/100], loss=0.8568 Train Accuracy=0.675 Test Accuracy=0.6333\n",
      "epoch[14/100], loss=0.8163 Train Accuracy=0.675 Test Accuracy=0.6333\n",
      "epoch[15/100], loss=0.7744 Train Accuracy=0.675 Test Accuracy=0.6333\n",
      "epoch[16/100], loss=0.7365 Train Accuracy=0.675 Test Accuracy=0.6333\n",
      "epoch[17/100], loss=0.6994 Train Accuracy=0.675 Test Accuracy=0.6333\n",
      "epoch[18/100], loss=0.6672 Train Accuracy=0.675 Test Accuracy=0.6333\n",
      "epoch[19/100], loss=0.6353 Train Accuracy=0.675 Test Accuracy=0.6667\n",
      "epoch[20/100], loss=0.6083 Train Accuracy=0.6833 Test Accuracy=0.6667\n",
      "epoch[21/100], loss=0.5837 Train Accuracy=0.7083 Test Accuracy=0.6667\n",
      "epoch[22/100], loss=0.5607 Train Accuracy=0.7083 Test Accuracy=0.7\n",
      "epoch[23/100], loss=0.5405 Train Accuracy=0.7167 Test Accuracy=0.7333\n",
      "epoch[24/100], loss=0.5215 Train Accuracy=0.7667 Test Accuracy=0.8\n",
      "epoch[25/100], loss=0.5042 Train Accuracy=0.8417 Test Accuracy=0.8\n",
      "epoch[26/100], loss=0.4876 Train Accuracy=0.85 Test Accuracy=0.8333\n",
      "epoch[27/100], loss=0.4725 Train Accuracy=0.875 Test Accuracy=0.8333\n",
      "epoch[28/100], loss=0.4588 Train Accuracy=0.9167 Test Accuracy=0.9333\n",
      "epoch[29/100], loss=0.4455 Train Accuracy=0.9583 Test Accuracy=0.9333\n",
      "epoch[30/100], loss=0.432 Train Accuracy=0.975 Test Accuracy=0.9333\n",
      "epoch[31/100], loss=0.4205 Train Accuracy=0.9667 Test Accuracy=0.9333\n",
      "epoch[32/100], loss=0.4086 Train Accuracy=0.9667 Test Accuracy=0.9333\n",
      "epoch[33/100], loss=0.3978 Train Accuracy=0.975 Test Accuracy=0.9333\n",
      "epoch[34/100], loss=0.3917 Train Accuracy=0.975 Test Accuracy=0.9333\n",
      "epoch[35/100], loss=0.3795 Train Accuracy=0.975 Test Accuracy=0.9333\n",
      "epoch[36/100], loss=0.3693 Train Accuracy=0.975 Test Accuracy=0.9333\n",
      "epoch[37/100], loss=0.3593 Train Accuracy=0.975 Test Accuracy=0.9333\n",
      "epoch[38/100], loss=0.3489 Train Accuracy=0.975 Test Accuracy=0.9333\n",
      "epoch[39/100], loss=0.3402 Train Accuracy=0.975 Test Accuracy=0.9333\n",
      "epoch[40/100], loss=0.3315 Train Accuracy=0.975 Test Accuracy=0.9333\n",
      "epoch[41/100], loss=0.3232 Train Accuracy=0.975 Test Accuracy=0.9333\n",
      "epoch[42/100], loss=0.315 Train Accuracy=0.975 Test Accuracy=0.9333\n",
      "epoch[43/100], loss=0.3076 Train Accuracy=0.975 Test Accuracy=0.9667\n",
      "epoch[44/100], loss=0.2999 Train Accuracy=0.975 Test Accuracy=0.9333\n",
      "epoch[45/100], loss=0.2917 Train Accuracy=0.975 Test Accuracy=0.9667\n",
      "epoch[46/100], loss=0.2856 Train Accuracy=0.975 Test Accuracy=1.0\n",
      "epoch[47/100], loss=0.2775 Train Accuracy=0.975 Test Accuracy=0.9333\n",
      "epoch[48/100], loss=0.272 Train Accuracy=0.975 Test Accuracy=0.9333\n",
      "epoch[49/100], loss=0.2661 Train Accuracy=0.975 Test Accuracy=1.0\n",
      "epoch[50/100], loss=0.2593 Train Accuracy=0.975 Test Accuracy=1.0\n",
      "epoch[51/100], loss=0.2522 Train Accuracy=0.975 Test Accuracy=0.9667\n",
      "epoch[52/100], loss=0.2488 Train Accuracy=0.975 Test Accuracy=0.9333\n",
      "epoch[53/100], loss=0.2427 Train Accuracy=0.975 Test Accuracy=1.0\n",
      "epoch[54/100], loss=0.2365 Train Accuracy=0.975 Test Accuracy=1.0\n",
      "epoch[55/100], loss=0.2304 Train Accuracy=0.975 Test Accuracy=0.9333\n",
      "epoch[56/100], loss=0.2262 Train Accuracy=0.975 Test Accuracy=0.9667\n",
      "epoch[57/100], loss=0.2198 Train Accuracy=0.975 Test Accuracy=1.0\n",
      "epoch[58/100], loss=0.2172 Train Accuracy=0.9667 Test Accuracy=1.0\n",
      "epoch[59/100], loss=0.2114 Train Accuracy=0.975 Test Accuracy=0.9667\n",
      "epoch[60/100], loss=0.2075 Train Accuracy=0.975 Test Accuracy=1.0\n",
      "epoch[61/100], loss=0.2036 Train Accuracy=0.975 Test Accuracy=0.9667\n",
      "epoch[62/100], loss=0.2005 Train Accuracy=0.975 Test Accuracy=1.0\n",
      "epoch[63/100], loss=0.1971 Train Accuracy=0.975 Test Accuracy=0.9667\n",
      "epoch[64/100], loss=0.1917 Train Accuracy=0.975 Test Accuracy=0.9667\n",
      "epoch[65/100], loss=0.1884 Train Accuracy=0.975 Test Accuracy=0.9667\n",
      "epoch[66/100], loss=0.1845 Train Accuracy=0.975 Test Accuracy=1.0\n",
      "epoch[67/100], loss=0.1857 Train Accuracy=0.9583 Test Accuracy=1.0\n",
      "epoch[68/100], loss=0.1797 Train Accuracy=0.975 Test Accuracy=0.9333\n",
      "epoch[69/100], loss=0.1768 Train Accuracy=0.975 Test Accuracy=0.9667\n",
      "epoch[70/100], loss=0.1715 Train Accuracy=0.975 Test Accuracy=1.0\n",
      "epoch[71/100], loss=0.169 Train Accuracy=0.975 Test Accuracy=1.0\n",
      "epoch[72/100], loss=0.1684 Train Accuracy=0.975 Test Accuracy=0.9667\n",
      "epoch[73/100], loss=0.164 Train Accuracy=0.975 Test Accuracy=1.0\n",
      "epoch[74/100], loss=0.164 Train Accuracy=0.9667 Test Accuracy=1.0\n",
      "epoch[75/100], loss=0.1592 Train Accuracy=0.975 Test Accuracy=1.0\n",
      "epoch[76/100], loss=0.1566 Train Accuracy=0.975 Test Accuracy=0.9667\n",
      "epoch[77/100], loss=0.154 Train Accuracy=0.975 Test Accuracy=1.0\n",
      "epoch[78/100], loss=0.1539 Train Accuracy=0.975 Test Accuracy=0.9667\n",
      "epoch[79/100], loss=0.1512 Train Accuracy=0.9667 Test Accuracy=1.0\n",
      "epoch[80/100], loss=0.1482 Train Accuracy=0.975 Test Accuracy=0.9667\n",
      "epoch[81/100], loss=0.147 Train Accuracy=0.975 Test Accuracy=0.9667\n",
      "epoch[82/100], loss=0.146 Train Accuracy=0.975 Test Accuracy=1.0\n",
      "epoch[83/100], loss=0.1418 Train Accuracy=0.975 Test Accuracy=0.9667\n",
      "epoch[84/100], loss=0.1401 Train Accuracy=0.975 Test Accuracy=0.9667\n",
      "epoch[85/100], loss=0.1388 Train Accuracy=0.975 Test Accuracy=1.0\n",
      "epoch[86/100], loss=0.1361 Train Accuracy=0.975 Test Accuracy=0.9667\n",
      "epoch[87/100], loss=0.1352 Train Accuracy=0.975 Test Accuracy=0.9667\n",
      "epoch[88/100], loss=0.1336 Train Accuracy=0.975 Test Accuracy=0.9667\n",
      "epoch[89/100], loss=0.1319 Train Accuracy=0.975 Test Accuracy=0.9667\n",
      "epoch[90/100], loss=0.1312 Train Accuracy=0.975 Test Accuracy=0.9667\n",
      "epoch[91/100], loss=0.1286 Train Accuracy=0.975 Test Accuracy=0.9667\n",
      "epoch[92/100], loss=0.1279 Train Accuracy=0.9667 Test Accuracy=1.0\n",
      "epoch[93/100], loss=0.1259 Train Accuracy=0.9667 Test Accuracy=0.9667\n",
      "epoch[94/100], loss=0.1246 Train Accuracy=0.975 Test Accuracy=0.9667\n",
      "epoch[95/100], loss=0.1237 Train Accuracy=0.975 Test Accuracy=0.9667\n",
      "epoch[96/100], loss=0.1223 Train Accuracy=0.975 Test Accuracy=1.0\n",
      "epoch[97/100], loss=0.1224 Train Accuracy=0.975 Test Accuracy=1.0\n",
      "epoch[98/100], loss=0.1204 Train Accuracy=0.975 Test Accuracy=0.9667\n",
      "epoch[99/100], loss=0.1185 Train Accuracy=0.975 Test Accuracy=0.9667\n",
      "epoch[100/100], loss=0.1171 Train Accuracy=0.975 Test Accuracy=1.0\n"
     ]
    },
    {
     "data": {
      "image/png": "[encoded data removed]",
      "text/plain": [
       "<Figure size 1200x500 with 1 Axes>"
      ]
     },
     "metadata": {},
     "output_type": "display_data"
    },
    {
     "name": "stdout",
     "output_type": "stream",
     "text": [
      "训练完成！\n"
     ]
    }
   ],
   "source": [
    "# 设置训练轮数\n",
    "num_epochs = 100\n",
    "\n",
    "# 权重初始化\n",
    "net.apply(init_weight)\n",
    "\n",
    "# 开始训练\n",
    "train(net, train_loader, test_loader, loss, num_epochs, optimizer)"
   ]
  }
 ],
 "metadata": {
  "kernelspec": {
   "display_name": "Torch",
   "language": "python",
   "name": "torch"
  },
  "language_info": {
   "codemirror_mode": {
    "name": "ipython",
    "version": 3
   },
   "file_extension": ".py",
   "mimetype": "text/x-python",
   "name": "python",
   "nbconvert_exporter": "python",
   "pygments_lexer": "ipython3",
   "version": "3.11.5"
  }
 },
 "nbformat": 4,
 "nbformat_minor": 5
}
