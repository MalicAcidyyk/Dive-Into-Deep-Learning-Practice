{
 "cells": [
  {
   "cell_type": "markdown",
   "id": "9ab53313-c097-491c-9028-3c695940377c",
   "metadata": {},
   "source": [
    "# 线性回归"
   ]
  },
  {
   "cell_type": "markdown",
   "id": "655eab3b-24fd-4cd6-974c-198b77e88981",
   "metadata": {},
   "source": [
    "## 生成数据集"
   ]
  },
  {
   "cell_type": "code",
   "execution_count": 2,
   "id": "77ac07f9-8968-4905-b4c3-543218746997",
   "metadata": {},
   "outputs": [],
   "source": [
    "import torch"
   ]
  },
  {
   "cell_type": "code",
   "execution_count": 3,
   "id": "e2e3c7a0-6fc8-4550-a0f5-d6180a949fe9",
   "metadata": {},
   "outputs": [],
   "source": [
    "# 定义一个生成数据的函数\n",
    "def synthetic_data(w, b, num_examples):\n",
    "    \"\"\"生成y=Xw+b+噪声\"\"\"\n",
    "    X = torch.normal(0, 1, (num_examples, len(w)))\n",
    "    y = torch.matmul(X, w) + b\n",
    "    y += torch.normal(0, 0.01, y.shape)  # 添加一些噪声\n",
    "    return X, y.reshape((-1, 1))\n",
    "\n",
    "\n",
    "true_w = torch.tensor([2, -3.4])\n",
    "true_b = 4.2\n",
    "features, labels = synthetic_data(true_w, true_b, 1000)"
   ]
  },
  {
   "cell_type": "code",
   "execution_count": 4,
   "id": "f4662208-aad5-43c7-bb2c-f2da3c2401c9",
   "metadata": {
    "scrolled": true
   },
   "outputs": [
    {
     "name": "stdout",
     "output_type": "stream",
     "text": [
      "features: tensor([[ 0.2006,  1.1955],\n",
      "        [-0.8768, -1.6206],\n",
      "        [ 1.3953, -0.9368],\n",
      "        [ 0.2744,  0.4404],\n",
      "        [ 0.4804,  1.3316]])\n",
      "labels: tensor([[ 0.5458],\n",
      "        [ 7.9457],\n",
      "        [10.1690],\n",
      "        [ 3.2646],\n",
      "        [ 0.6534]])\n"
     ]
    }
   ],
   "source": [
    "print('features:', features[:5])\n",
    "print('labels:', labels[:5])"
   ]
  },
  {
   "cell_type": "code",
   "execution_count": 5,
   "id": "64f1a687-0d00-4c3a-ab56-136c8f95d7ce",
   "metadata": {},
   "outputs": [
    {
     "data": {
      "image/png": "[encoded data removed]",
      "text/plain": [
       "<Figure size 640x480 with 1 Axes>"
      ]
     },
     "metadata": {},
     "output_type": "display_data"
    }
   ],
   "source": [
    "import matplotlib.pyplot as plt\n",
    "plt.scatter(features[:, 1].detach().numpy(), labels.detach().numpy())\n",
    "plt.show()"
   ]
  },
  {
   "cell_type": "markdown",
   "id": "23f3c659-8b06-47eb-9a33-b203076156ed",
   "metadata": {},
   "source": [
    "## 读取数据集"
   ]
  },
  {
   "cell_type": "code",
   "execution_count": 6,
   "id": "b6e1c0ae-4be3-412f-8ef3-ecd564c147e0",
   "metadata": {},
   "outputs": [],
   "source": [
    "from torch.utils import data\n",
    "\n",
    "\n",
    "def load_array(data_arrays, batch_size, is_train=True):\n",
    "    \"\"\"构造一个数据迭代器\"\"\"\n",
    "    dataset = data.TensorDataset(*data_arrays)  # \"*\"表示解压可迭代对象\n",
    "    return data.DataLoader(dataset, batch_size, shuffle=is_train)\n",
    "\n",
    "\n",
    "batch_size = 10  # 每个小批量样本的样本数\n",
    "data_iter = load_array((features, labels), batch_size)"
   ]
  },
  {
   "cell_type": "code",
   "execution_count": 7,
   "id": "eb5c21a3-59af-4ade-a017-974146730500",
   "metadata": {},
   "outputs": [
    {
     "data": {
      "text/plain": [
       "[tensor([[ 0.7643, -1.1003],\n",
       "         [-0.4115, -0.6478],\n",
       "         [-0.3819,  0.6987],\n",
       "         [-0.0524,  0.0363],\n",
       "         [ 0.8257, -1.2701],\n",
       "         [ 2.3928, -1.6585],\n",
       "         [ 0.6379, -0.3892],\n",
       "         [ 0.2223,  1.4223],\n",
       "         [ 1.1385, -0.8345],\n",
       "         [-0.0350,  1.5625]]),\n",
       " tensor([[ 9.4611],\n",
       "         [ 5.5878],\n",
       "         [ 1.0719],\n",
       "         [ 3.9747],\n",
       "         [10.1582],\n",
       "         [14.6115],\n",
       "         [ 6.7916],\n",
       "         [-0.1775],\n",
       "         [ 9.3241],\n",
       "         [-1.1862]])]"
      ]
     },
     "execution_count": 7,
     "metadata": {},
     "output_type": "execute_result"
    }
   ],
   "source": [
    "# 从迭代器中获取第一项\n",
    "next(iter(data_iter))"
   ]
  },
  {
   "cell_type": "markdown",
   "id": "15df7060-6788-4104-b7ce-d034e3a1a85b",
   "metadata": {},
   "source": [
    "## 定义模型"
   ]
  },
  {
   "cell_type": "code",
   "execution_count": 9,
   "id": "42b8d84f-f7d4-41da-b451-d3f4006f5192",
   "metadata": {},
   "outputs": [],
   "source": [
    "# nn是神经网络的缩写\n",
    "from torch import nn\n",
    "\n",
    "# PyTorch的全连接层在Linear类中定义\n",
    "net = nn.Sequential(nn.Linear(2, 1))  # 第1个参数指定输入特征形状，第2个参数指定输出特征形状。"
   ]
  },
  {
   "cell_type": "markdown",
   "id": "51f51762-2f3c-48ac-8cc6-67866c201ef7",
   "metadata": {},
   "source": [
    "## 初始化模型参数"
   ]
  },
  {
   "cell_type": "code",
   "execution_count": 10,
   "id": "123df791-0a8d-4e19-a233-48f9166d1d11",
   "metadata": {},
   "outputs": [
    {
     "data": {
      "text/plain": [
       "tensor([0.])"
      ]
     },
     "execution_count": 10,
     "metadata": {},
     "output_type": "execute_result"
    }
   ],
   "source": [
    "# 通过net[0]选择网络中第一个图层\n",
    "net[0].weight.data.normal_(0, 0.01)  # 用weight.data访问权重参数\n",
    "net[0].bias.data.fill_(0)  # 用bias.data访问偏置参数"
   ]
  },
  {
   "cell_type": "markdown",
   "id": "09e07bae-b849-494f-aaf4-bfb05d7279e1",
   "metadata": {},
   "source": [
    "## 定义损失函数"
   ]
  },
  {
   "cell_type": "code",
   "execution_count": 11,
   "id": "af52ed14-8ca2-463c-a4c8-3b7219fd6996",
   "metadata": {},
   "outputs": [],
   "source": [
    "# 使用均方误差MSE作为损失函数\n",
    "loss = nn.MSELoss()"
   ]
  },
  {
   "cell_type": "markdown",
   "id": "66761207-09dc-46b0-a8d6-f313f76d87a7",
   "metadata": {},
   "source": [
    "## 定义优化算法"
   ]
  },
  {
   "cell_type": "code",
   "execution_count": 12,
   "id": "38e1844b-a0db-47cb-b75a-1b16f470d44a",
   "metadata": {},
   "outputs": [],
   "source": [
    "# 实例化小批量随机梯度下降算法\n",
    "# net.parameters()获取参数，lr设置学习率\n",
    "trainer = torch.optim.SGD(net.parameters(), lr=0.03)"
   ]
  },
  {
   "cell_type": "markdown",
   "id": "46dda165-fd12-410c-87b2-4fee57bb71f1",
   "metadata": {},
   "source": [
    "## 训练"
   ]
  },
  {
   "cell_type": "code",
   "execution_count": 22,
   "id": "c120c87d-b465-44aa-bb12-cdd4d2d8f3e9",
   "metadata": {},
   "outputs": [
    {
     "name": "stdout",
     "output_type": "stream",
     "text": [
      "epoch 1, loss:0.000096\n",
      "epoch 2, loss:0.000096\n",
      "epoch 3, loss:0.000096\n"
     ]
    }
   ],
   "source": [
    "num_epochs = 3  # 迭代次数\n",
    "\n",
    "for epoch in range(num_epochs):\n",
    "    for X, y in data_iter:\n",
    "        l = loss(net(X), y)  # 计算当前批次损失\n",
    "        trainer.zero_grad()  # 梯度清零\n",
    "        l.backward()  # 反向传播\n",
    "        trainer.step()  # 优化参数\n",
    "    l = loss(net(features), labels)  # 计算整个训练集上的损失\n",
    "    print(f'epoch {epoch+1}, loss:{l:f}')"
   ]
  },
  {
   "cell_type": "code",
   "execution_count": 24,
   "id": "89915491-94d7-44d6-84ef-6f7ed9184c26",
   "metadata": {},
   "outputs": [
    {
     "name": "stdout",
     "output_type": "stream",
     "text": [
      "tensor([[ 2.0010, -3.4004]])\n",
      "w的估计误差：tensor([[ 0.0010, -0.0004]])\n",
      "tensor([4.2003])\n",
      "b的估计误差: tensor([0.0003])\n"
     ]
    }
   ],
   "source": [
    "# 比较模型参数与真实参数\n",
    "w = net[0].weight.data\n",
    "print(w)\n",
    "print(f'w的估计误差：{w - true_w}')\n",
    "b = net[0].bias.data\n",
    "print(b)\n",
    "print(f'b的估计误差: {b - true_b}')"
   ]
  },
  {
   "cell_type": "markdown",
   "id": "6810593d-2e6b-4685-b78d-80a951d60ed2",
   "metadata": {},
   "source": [
    "# 图像分类数据集"
   ]
  },
  {
   "cell_type": "code",
   "execution_count": 16,
   "id": "37e576c2-6e20-4b25-854b-7400fb0c2223",
   "metadata": {},
   "outputs": [],
   "source": [
    "import torch\n",
    "import torchvision\n",
    "from torch.utils import data\n",
    "from torchvision import transforms\n",
    "import matplotlib.pyplot as plt"
   ]
  },
  {
   "cell_type": "markdown",
   "id": "daf56d90-e0a9-432d-a67c-1d8333f6f4fe",
   "metadata": {},
   "source": [
    "## 读取数据集"
   ]
  },
  {
   "cell_type": "code",
   "execution_count": 20,
   "id": "57886844-3442-4f72-b900-f7315483195f",
   "metadata": {},
   "outputs": [],
   "source": [
    "# 通过ToTensor实例将图像数据从PIL类型变换成浮点数，并除以255使得所有像素的数值均在0～1之间\n",
    "trans = transforms.ToTensor()\n",
    "\n",
    "# 读取FashionMNIST数据集\n",
    "mnist_train = torchvision.datasets.FashionMNIST(\n",
    "    root=\"./data\", train=True, transform=trans, download=True)\n",
    "mnist_test = torchvision.datasets.FashionMNIST(\n",
    "    root=\"./data\", train=False, transform=trans, download=True)"
   ]
  },
  {
   "cell_type": "code",
   "execution_count": 21,
   "id": "6909550e-20d4-4999-96ac-722e4f0a9d53",
   "metadata": {},
   "outputs": [
    {
     "data": {
      "text/plain": [
       "Dataset FashionMNIST\n",
       "    Number of datapoints: 60000\n",
       "    Root location: ./data\n",
       "    Split: Train\n",
       "    StandardTransform\n",
       "Transform: ToTensor()"
      ]
     },
     "execution_count": 21,
     "metadata": {},
     "output_type": "execute_result"
    }
   ],
   "source": [
    "mnist_train"
   ]
  },
  {
   "cell_type": "code",
   "execution_count": 22,
   "id": "d6958b2f-8725-4f2a-8aa3-8d3f7a83b5f3",
   "metadata": {},
   "outputs": [
    {
     "data": {
      "text/plain": [
       "(60000, 10000)"
      ]
     },
     "execution_count": 22,
     "metadata": {},
     "output_type": "execute_result"
    }
   ],
   "source": [
    "len(mnist_train), len(mnist_test)"
   ]
  },
  {
   "cell_type": "code",
   "execution_count": 23,
   "id": "272ce932-4f59-4349-823d-fb6044b70252",
   "metadata": {},
   "outputs": [
    {
     "data": {
      "text/plain": [
       "torch.Size([1, 28, 28])"
      ]
     },
     "execution_count": 23,
     "metadata": {},
     "output_type": "execute_result"
    }
   ],
   "source": [
    "mnist_train[0][0].shape"
   ]
  },
  {
   "cell_type": "code",
   "execution_count": 24,
   "id": "bf4e5b33-2b9a-4b47-88b8-dd766dace211",
   "metadata": {},
   "outputs": [
    {
     "data": {
      "text/plain": [
       "9"
      ]
     },
     "execution_count": 24,
     "metadata": {},
     "output_type": "execute_result"
    }
   ],
   "source": [
    "mnist_train[0][1]"
   ]
  },
  {
   "cell_type": "code",
   "execution_count": 25,
   "id": "1fbacabf-10ba-4436-a904-267756741b44",
   "metadata": {},
   "outputs": [],
   "source": [
    "# 创建函数用于将数字label转为名称\n",
    "def get_fashion_mnist_labels(labels):\n",
    "    \"\"\"返回fashion-MNIST数据集的文本标签\"\"\"\n",
    "    text_labels = ['t-shirt', 'trouser', 'pullover', 'dress', 'coat',\n",
    "                   'sandal', 'shirt', 'sneaker', 'bag', 'ankle boot']\n",
    "    return [text_labels[int(i)] for i in labels]"
   ]
  },
  {
   "cell_type": "code",
   "execution_count": 30,
   "id": "1cabf00a-cd27-4759-b5ae-652188739a2e",
   "metadata": {},
   "outputs": [],
   "source": [
    "def show_images(imgs, num_rows, num_cols, titles=None, scale=2):\n",
    "    \"\"\"绘制图像\"\"\"\n",
    "    figsize = (num_cols * scale, num_rows * scale)\n",
    "    fig, axes = plt.subplots(num_rows, num_cols, figsize=figsize)\n",
    "    axes = axes.flatten()  # 展平子图数组为一维数组，便于后续循环中遍历每个子图\n",
    "\n",
    "    for i, (ax, img) in enumerate(zip(axes, imgs)):\n",
    "        if torch.is_tensor(img):\n",
    "            # 图片张量\n",
    "            ax.imshow(img.numpy())\n",
    "        else:\n",
    "            # PIL图片\n",
    "            ax.imshow(img)\n",
    "\n",
    "    # 设置x，y轴坐标不可见\n",
    "        ax.axes.get_xaxis().set_visible(False)\n",
    "        ax.axes.get_yaxis().set_visible(False)\n",
    "\n",
    "    # 设置子图标签\n",
    "        if titles:\n",
    "            ax.set_title(titles[i])\n",
    "    return axes"
   ]
  },
  {
   "cell_type": "code",
   "execution_count": 31,
   "id": "7144fa84-367f-401d-a280-c48db35fe393",
   "metadata": {},
   "outputs": [
    {
     "data": {
      "image/png": "[encoded data removed]",
      "text/plain": [
       "<Figure size 1000x600 with 15 Axes>"
      ]
     },
     "metadata": {},
     "output_type": "display_data"
    }
   ],
   "source": [
    "# 获取前15个样本的图片和标签\n",
    "X, y = next(iter(data.DataLoader(mnist_train, batch_size=15)))\n",
    "\n",
    "# 展示图片\n",
    "show_images(X.reshape(15, 28, 28), 3, 5, titles=get_fashion_mnist_labels(y))\n",
    "plt.show()"
   ]
  },
  {
   "cell_type": "code",
   "execution_count": 32,
   "id": "9f0d0a36-a827-4642-a927-cc46c8db4fdf",
   "metadata": {},
   "outputs": [
    {
     "data": {
      "text/plain": [
       "torch.Size([15, 1, 28, 28])"
      ]
     },
     "execution_count": 32,
     "metadata": {},
     "output_type": "execute_result"
    }
   ],
   "source": [
    "X.shape"
   ]
  },
  {
   "cell_type": "markdown",
   "id": "bff50d80-6306-48c3-b2c4-572d8b3411ef",
   "metadata": {},
   "source": [
    "## 读取小批量"
   ]
  },
  {
   "cell_type": "code",
   "execution_count": 33,
   "id": "0cbd75dc-36d7-4585-bd4b-aba36f69380a",
   "metadata": {},
   "outputs": [],
   "source": [
    "batch_size = 256\n",
    "\n",
    "\n",
    "def get_dataloader_workers():\n",
    "    \"\"\"使用4个进程读取数据\"\"\"\n",
    "    return 4\n",
    "\n",
    "\n",
    "train_iter = data.DataLoader(mnist_train, batch_size, shuffle=True,\n",
    "                             num_workers=get_dataloader_workers())"
   ]
  },
  {
   "cell_type": "markdown",
   "id": "d1cea6f3-e2e1-4c03-89ef-8ac2d0e1c466",
   "metadata": {},
   "source": [
    "## 整合组件"
   ]
  },
  {
   "cell_type": "code",
   "execution_count": 34,
   "id": "13a5c274-9b8e-4326-832d-f6af07bbabde",
   "metadata": {},
   "outputs": [],
   "source": [
    "def load_data_fashion_mnist(batch_size, resize=None):\n",
    "    \"\"\"下载Fashion-MNIST数据集，然后将其加载到内存中\"\"\"\n",
    "\n",
    "    # 创建存储图像转换操作的列表，包含ToTensor实例\n",
    "    trans = [transforms.ToTensor()]\n",
    "\n",
    "    if resize:\n",
    "        trans.insert(0, transforms.Resize(resize))  # 将Resize实例加入转换列表\n",
    "    trans = transforms.Compose(trans)  # 将多个图像转换的操作合并\n",
    "\n",
    "    mnist_train = torchvision.datasets.FashionMNIST(\n",
    "        root=\"./data\", train=True, transform=trans, download=True)\n",
    "    mnist_test = torchvision.datasets.FashionMNIST(\n",
    "        root=\"./data\", train=False, transform=trans, download=True)\n",
    "\n",
    "    return (data.DataLoader(mnist_train, batch_size, shuffle=True,\n",
    "                            num_workers=get_dataloader_workers()),\n",
    "            data.DataLoader(mnist_test, batch_size, shuffle=False,\n",
    "                            num_workers=get_dataloader_workers()))"
   ]
  },
  {
   "cell_type": "code",
   "execution_count": 35,
   "id": "bb56e234-5274-49ec-a3fd-b0e7dc5e002c",
   "metadata": {},
   "outputs": [
    {
     "name": "stdout",
     "output_type": "stream",
     "text": [
      "torch.Size([32, 1, 64, 64]) torch.float32 torch.Size([32]) torch.int64\n"
     ]
    }
   ],
   "source": [
    "# 每个小批量取32个样本，并将图像转换为64*64\n",
    "train_iter, test_iter = load_data_fashion_mnist(32, resize=64)  # 转化为64*64图像\n",
    "\n",
    "for X, y in train_iter:\n",
    "    print(X.shape, X.dtype, y.shape, y.dtype)\n",
    "    break"
   ]
  },
  {
   "cell_type": "markdown",
   "id": "ddc96a1e-a78c-4f2b-89a4-dcdf90ed82cd",
   "metadata": {},
   "source": [
    "# Softmax回归"
   ]
  },
  {
   "cell_type": "code",
   "execution_count": 17,
   "id": "9885b815-4870-436d-8a03-f373d2f4ea55",
   "metadata": {},
   "outputs": [],
   "source": [
    "import torch\n",
    "import torchvision\n",
    "from torch.utils import data\n",
    "from torchvision import transforms\n",
    "import matplotlib.pyplot as plt"
   ]
  },
  {
   "cell_type": "markdown",
   "id": "29065487-26a2-4e21-b8a5-ad152aa82cae",
   "metadata": {},
   "source": [
    "## 加载数据"
   ]
  },
  {
   "cell_type": "code",
   "execution_count": 36,
   "id": "5812d7f5-da09-4695-9871-129fbbe62a49",
   "metadata": {},
   "outputs": [],
   "source": [
    "batch_size = 256\n",
    "\n",
    "train_iter, test_iter = load_data_fashion_mnist(batch_size)"
   ]
  },
  {
   "cell_type": "markdown",
   "id": "58d7436a-c255-4ca0-944f-8f436abcb744",
   "metadata": {},
   "source": [
    "## 模型"
   ]
  },
  {
   "cell_type": "code",
   "execution_count": 37,
   "id": "b2a81986-5d3d-482f-bc5f-e298835de3a2",
   "metadata": {},
   "outputs": [
    {
     "data": {
      "text/plain": [
       "Sequential(\n",
       "  (0): Flatten(start_dim=1, end_dim=-1)\n",
       "  (1): Linear(in_features=784, out_features=10, bias=True)\n",
       ")"
      ]
     },
     "execution_count": 37,
     "metadata": {},
     "output_type": "execute_result"
    }
   ],
   "source": [
    "from torch import nn\n",
    "\n",
    "# 在线性层前定义Flatten层，调整网络输入的形状\n",
    "net = nn.Sequential(nn.Flatten(),\n",
    "                    nn.Linear(784, 10))\n",
    "\n",
    "\n",
    "def init_weight(m):\n",
    "    \"\"\"对权重正态分布初始化\"\"\"\n",
    "    if type(m) == nn.Linear:\n",
    "        nn.init.normal_(m.weight, std=0.01)\n",
    "\n",
    "\n",
    "net.apply(init_weight)"
   ]
  },
  {
   "cell_type": "markdown",
   "id": "02a7c329-6a4c-4fdd-8961-6e1901e971c3",
   "metadata": {},
   "source": [
    "## 损失函数"
   ]
  },
  {
   "cell_type": "code",
   "execution_count": 38,
   "id": "5ab9b56f-46a6-432d-b5e8-cdbc38931e02",
   "metadata": {},
   "outputs": [],
   "source": [
    "# 使用交叉熵损失，默认采用均值\n",
    "loss = nn.CrossEntropyLoss()"
   ]
  },
  {
   "cell_type": "markdown",
   "id": "70c79b76-bd67-4d7a-8b2d-da784a674d4f",
   "metadata": {},
   "source": [
    "## 分类精度"
   ]
  },
  {
   "cell_type": "code",
   "execution_count": 46,
   "id": "d613f332-61d2-4a9f-89d6-1dfded34eb94",
   "metadata": {},
   "outputs": [],
   "source": [
    "# 定义累加器Accumulator类，用于对多个变量进行累加\n",
    "class Accumulator:\n",
    "    \"\"\"对n个变量进行累加操作\"\"\"\n",
    "\n",
    "    def __init__(self, n):\n",
    "        # 初始化累加器数据\n",
    "        self.data = [0.0] * n\n",
    "\n",
    "    def add(self, *args):\n",
    "        # 将data列表中的每个元素a与args中对应位置的参数b相加，得到新的元素值，组成新的列表\n",
    "        self.data = [a + float(b) for a, b in zip(self.data, args)]\n",
    "\n",
    "    def reset(self):\n",
    "        # 重置累加器数据\n",
    "        self.data = [0.0] * len(self.data)\n",
    "\n",
    "    def __getitem__(self, idx):\n",
    "        # 获取累加器数据\n",
    "        return self.data[idx]"
   ]
  },
  {
   "cell_type": "code",
   "execution_count": 41,
   "id": "58250213-0d33-4f6f-a9d6-749443db4ab7",
   "metadata": {},
   "outputs": [
    {
     "data": {
      "text/plain": [
       "tensor([0.1000, 0.5000])"
      ]
     },
     "execution_count": 41,
     "metadata": {},
     "output_type": "execute_result"
    }
   ],
   "source": [
    "# 示例\n",
    "y = torch.tensor([0, 2])  # 真实类别\n",
    "y_hat = torch.tensor([[0.1, 0.3, 0.6], [0.3, 0.2, 0.5]])  # 模型输出的每种类别的概率\n",
    "y_hat[[0, 1], y]"
   ]
  },
  {
   "cell_type": "code",
   "execution_count": 42,
   "id": "140b7673-b028-44c6-96ac-6b42e149d5d5",
   "metadata": {},
   "outputs": [],
   "source": [
    "def accuracy(y_hat, y):\n",
    "    \"\"\"计算正确预测的数量\"\"\"\n",
    "\n",
    "    # 获取模型预测的分类标签（概率最大的类别）\n",
    "    if len(y_hat.shape) > 1 and y_hat.shape[1] > 1:\n",
    "        y_hat = y_hat.argmax(axis=1)\n",
    "\n",
    "    # 判断是否预测正确\n",
    "    cmp = (y_hat.type(y.dtype) == y)\n",
    "\n",
    "    # 输出正确预测的总数\n",
    "    return float(cmp.sum())"
   ]
  },
  {
   "cell_type": "code",
   "execution_count": 43,
   "id": "4e85178b-2925-47ee-81f5-5ae2fc403301",
   "metadata": {},
   "outputs": [
    {
     "data": {
      "text/plain": [
       "0.5"
      ]
     },
     "execution_count": 43,
     "metadata": {},
     "output_type": "execute_result"
    }
   ],
   "source": [
    "accuracy(y_hat, y) / len(y)"
   ]
  },
  {
   "cell_type": "code",
   "execution_count": 44,
   "id": "57c16524-deb1-42cc-964c-50c0d5e22f05",
   "metadata": {},
   "outputs": [],
   "source": [
    "# 定义计算分类精度的函数\n",
    "def evaluate_accuracy(net, data_iter):\n",
    "    \"\"\"计算模型准确度\"\"\"\n",
    "    if isinstance(net, torch.nn.Module):\n",
    "        net.eval()  # 将模型设置为评估模式\n",
    "\n",
    "    metric = Accumulator(2)\n",
    "    with torch.no_grad():\n",
    "        for X, y in data_iter:\n",
    "            metric.add(accuracy(net(X), y), y.numel())  # 添加正确预测数、样本总数\n",
    "\n",
    "        # 返回预测正确率\n",
    "    return metric[0] / metric[1]"
   ]
  },
  {
   "cell_type": "markdown",
   "id": "cfd21041-6699-4edc-b765-dedc606f4e51",
   "metadata": {},
   "source": [
    "## 优化算法"
   ]
  },
  {
   "cell_type": "code",
   "execution_count": 40,
   "id": "4a25b4b1-1294-41d0-b9f4-f4e1d38e0c1e",
   "metadata": {},
   "outputs": [],
   "source": [
    "# 使用随机梯度下降，学习率为0.1\n",
    "trainer = torch.optim.SGD(net.parameters(), lr=0.1)"
   ]
  },
  {
   "cell_type": "markdown",
   "id": "190b1247-ef1f-48a1-801e-f9f45b26ab18",
   "metadata": {},
   "source": [
    "## 训练函数"
   ]
  },
  {
   "cell_type": "code",
   "execution_count": 58,
   "id": "a876cdd7-3150-4f2b-89b1-2b361351d589",
   "metadata": {},
   "outputs": [],
   "source": [
    "def train_epoch(net, train_iter, loss, updater):\n",
    "    \"\"\"训练模型一个迭代周期\"\"\"\n",
    "\n",
    "    # 设置累加器，计算训练损失总和、训练集上的正确预测总和、样本数\n",
    "    metric = Accumulator(3)\n",
    "\n",
    "    # 设置为训练模式\n",
    "    if isinstance(net, torch.nn.Module):\n",
    "        net.train()\n",
    "\n",
    "    for X, y in train_iter:\n",
    "        # 计算梯度并更新参数\n",
    "        y_hat = net(X)\n",
    "        batch_loss = loss(y_hat, y)\n",
    "        total_loss = batch_loss * y.numel()\n",
    "        updater.zero_grad()\n",
    "        batch_loss.backward()  # 反向传播\n",
    "        updater.step()  # 更新参数\n",
    "\n",
    "        metric.add(total_loss, accuracy(y_hat, y), y.numel())\n",
    "\n",
    "    # 返回训练损失和训练集准确度\n",
    "    return metric[0] / metric[2], metric[1] / metric[2]"
   ]
  },
  {
   "cell_type": "code",
   "execution_count": 56,
   "id": "4e3a3200-fbf3-4e45-a4f2-753f1a7e89cc",
   "metadata": {},
   "outputs": [],
   "source": [
    "def train(net, train_iter, test_iter, loss, num_epochs, updater):\n",
    "    \"\"\"训练模型\"\"\"\n",
    "\n",
    "    for epoch in range(num_epochs):\n",
    "        train_loss, train_acc = train_epoch(net, train_iter, loss, updater)\n",
    "        train_loss = round(train_loss, 4)\n",
    "        train_acc = round(train_acc, 4)\n",
    "        test_acc = evaluate_accuracy(net, test_iter)\n",
    "        test_acc = round(test_acc, 4)\n",
    "\n",
    "        print(\n",
    "            f'epoch[{epoch + 1}/{num_epochs}], loss={train_loss} train_accuracy={train_acc} test_accuracy={test_acc}')\n",
    "\n",
    "    print('训练完成！')"
   ]
  },
  {
   "cell_type": "markdown",
   "id": "26ffc30a-8183-4152-8051-96c03071a918",
   "metadata": {},
   "source": [
    "## 训练轮数"
   ]
  },
  {
   "cell_type": "code",
   "execution_count": 85,
   "id": "09a025ef-765a-463b-8e04-1333bd9ddd5a",
   "metadata": {},
   "outputs": [],
   "source": [
    "# 设置训练轮数\n",
    "num_epochs = 10"
   ]
  },
  {
   "cell_type": "markdown",
   "id": "486a77c0-ee8d-4bce-9c17-c41514999baf",
   "metadata": {},
   "source": [
    "## 训练"
   ]
  },
  {
   "cell_type": "code",
   "execution_count": 67,
   "id": "3284499b-62f9-4c6f-92ae-2b8668213d11",
   "metadata": {
    "scrolled": true
   },
   "outputs": [
    {
     "name": "stdout",
     "output_type": "stream",
     "text": [
      "epoch[1/10], loss=0.5014 train_accuracy=0.8311 test_accuracy=0.8215\n",
      "epoch[2/10], loss=0.4853 train_accuracy=0.838 test_accuracy=0.8286\n",
      "epoch[3/10], loss=0.4739 train_accuracy=0.8399 test_accuracy=0.826\n",
      "epoch[4/10], loss=0.4654 train_accuracy=0.8418 test_accuracy=0.8194\n",
      "epoch[5/10], loss=0.458 train_accuracy=0.8446 test_accuracy=0.8318\n",
      "epoch[6/10], loss=0.452 train_accuracy=0.847 test_accuracy=0.8273\n",
      "epoch[7/10], loss=0.4465 train_accuracy=0.8485 test_accuracy=0.8277\n",
      "epoch[8/10], loss=0.4425 train_accuracy=0.8492 test_accuracy=0.8298\n",
      "epoch[9/10], loss=0.439 train_accuracy=0.8503 test_accuracy=0.8351\n",
      "epoch[10/10], loss=0.436 train_accuracy=0.852 test_accuracy=0.8348\n",
      "训练完成！\n"
     ]
    }
   ],
   "source": [
    "# 开始训练\n",
    "train(net, train_iter, test_iter, loss, num_epochs, trainer)"
   ]
  },
  {
   "cell_type": "code",
   "execution_count": 229,
   "id": "e5c572bf-11c1-465a-b5cf-426586da5c5a",
   "metadata": {},
   "outputs": [],
   "source": [
    "# 直接在训练函数内计算精确度\n",
    "\n",
    "def train_epoch(net, train_iter, loss, updater):\n",
    "    \"\"\"训练模型一个迭代周期\"\"\"\n",
    "\n",
    "    # 设置为训练模式\n",
    "    if isinstance(net, torch.nn.Module):\n",
    "        net.train()\n",
    "\n",
    "        # 初始化\n",
    "    total_loss = 0.0\n",
    "    total_correct = 0\n",
    "    total_samples = 0\n",
    "\n",
    "    for X, y in train_iter:\n",
    "        # 计算梯度并更新参数\n",
    "        y_hat = net(X)\n",
    "        batch_loss = loss(y_hat, y)\n",
    "        updater.zero_grad()\n",
    "        batch_loss.backward()  # 反向传播\n",
    "        updater.step()  # 更新参数\n",
    "\n",
    "        total_loss += batch_loss.item() * y.numel()  # 计算训练集总损失\n",
    "        total_correct += (y_hat.argmax(1) == y).sum().item()  # 计算正确预测总数\n",
    "        total_samples += y.numel()  # 计算总样本数\n",
    "\n",
    "    average_loss = total_loss / total_samples  # 计算训练集上平均损失\n",
    "\n",
    "    # 计算训练集上的准确度\n",
    "    train_acc = total_correct / total_samples\n",
    "\n",
    "    # 返回平均损失和训练集上的准确度\n",
    "    return average_loss, train_acc"
   ]
  },
  {
   "cell_type": "code",
   "execution_count": 66,
   "id": "435fca39-f446-46ce-b494-70d2da17954c",
   "metadata": {},
   "outputs": [],
   "source": [
    "def train(net, train_iter, test_iter, loss, num_epochs, updater):\n",
    "    \"\"\"训练模型\"\"\"\n",
    "\n",
    "    for epoch in range(num_epochs):\n",
    "        average_loss, train_acc = train_epoch(net, train_iter, loss, updater)\n",
    "        average_loss = round(average_loss, 4)\n",
    "        train_acc = round(train_acc, 4)\n",
    "\n",
    "        # 在每个训练周期结束后计算测试集准确度\n",
    "        net.eval()\n",
    "        with torch.no_grad():\n",
    "            total_correct = 0\n",
    "            total_samples = 0\n",
    "            for X, y in test_iter:\n",
    "                y_hat = net(X)\n",
    "                total_correct += (y_hat.argmax(1) == y).sum().item()\n",
    "                total_samples += y.numel()\n",
    "            test_acc = round(total_correct / total_samples, 4)\n",
    "\n",
    "        print(\n",
    "            f'epoch[{epoch + 1}/{num_epochs}], loss={average_loss} train_accuracy={train_acc} test_accuracy={test_acc}')\n",
    "\n",
    "    print('训练完成！')"
   ]
  },
  {
   "cell_type": "code",
   "execution_count": 226,
   "id": "fe74a5cd-3b40-4124-8b99-c27bdedade5f",
   "metadata": {},
   "outputs": [
    {
     "name": "stdout",
     "output_type": "stream",
     "text": [
      "epoch1: loss=0.4168 train_accuracy=0.8577 test_accuracy=0.8407\n",
      "epoch2: loss=0.4136 train_accuracy=0.859 test_accuracy=0.8403\n",
      "epoch3: loss=0.4132 train_accuracy=0.8581 test_accuracy=0.841\n",
      "epoch4: loss=0.4122 train_accuracy=0.8586 test_accuracy=0.8401\n",
      "epoch5: loss=0.4109 train_accuracy=0.8594 test_accuracy=0.8416\n",
      "epoch6: loss=0.4102 train_accuracy=0.8597 test_accuracy=0.8402\n",
      "epoch7: loss=0.4087 train_accuracy=0.8594 test_accuracy=0.8424\n",
      "epoch8: loss=0.4075 train_accuracy=0.8607 test_accuracy=0.8428\n",
      "epoch9: loss=0.4069 train_accuracy=0.8611 test_accuracy=0.8389\n",
      "epoch10: loss=0.4061 train_accuracy=0.8605 test_accuracy=0.8339\n",
      "epoch11: loss=0.4051 train_accuracy=0.8608 test_accuracy=0.8425\n",
      "epoch12: loss=0.4045 train_accuracy=0.8615 test_accuracy=0.8399\n",
      "epoch13: loss=0.4036 train_accuracy=0.8622 test_accuracy=0.8402\n",
      "epoch14: loss=0.403 train_accuracy=0.8622 test_accuracy=0.841\n",
      "epoch15: loss=0.4018 train_accuracy=0.8622 test_accuracy=0.84\n",
      "epoch16: loss=0.4015 train_accuracy=0.8625 test_accuracy=0.8452\n",
      "epoch17: loss=0.4006 train_accuracy=0.8625 test_accuracy=0.84\n",
      "epoch18: loss=0.3997 train_accuracy=0.863 test_accuracy=0.8413\n",
      "epoch19: loss=0.3993 train_accuracy=0.864 test_accuracy=0.8441\n",
      "epoch20: loss=0.3989 train_accuracy=0.863 test_accuracy=0.8423\n",
      "训练完成！\n"
     ]
    }
   ],
   "source": [
    "# 开始训练\n",
    "train(net, train_iter, test_iter, loss, num_epochs, trainer)"
   ]
  },
  {
   "cell_type": "markdown",
   "id": "87422c74-2f4f-41e5-b02c-feb254330055",
   "metadata": {},
   "source": [
    "## 预测"
   ]
  },
  {
   "cell_type": "code",
   "execution_count": 244,
   "id": "9e863ac7-50f4-418b-bbef-f230d92d9664",
   "metadata": {},
   "outputs": [
    {
     "data": {
      "image/png": "[encoded data removed]",
      "text/plain": [
       "<Figure size 1200x150 with 8 Axes>"
      ]
     },
     "metadata": {},
     "output_type": "display_data"
    }
   ],
   "source": [
    "def predict(net, test_iter, n=8):\n",
    "    \"\"\"预测标签\"\"\"\n",
    "    for X, y in test_iter:\n",
    "        break\n",
    "    trues = get_fashion_mnist_labels(y)\n",
    "    preds = get_fashion_mnist_labels(net(X).argmax(axis=1))\n",
    "    titles = [true + '\\n' + pred for true, pred in zip(trues, preds)]\n",
    "    show_images(X[0:n].reshape(n, 28, 28), 1, n, titles=titles[0:n])\n",
    "\n",
    "\n",
    "predict(net, test_iter)"
   ]
  },
  {
   "cell_type": "markdown",
   "id": "64cbf0bd-2d2d-41c3-8ec0-265c81c550de",
   "metadata": {},
   "source": [
    "## 可视化"
   ]
  },
  {
   "cell_type": "code",
   "execution_count": 64,
   "id": "140d4419-081d-43f9-a2f2-2a4cd85f343e",
   "metadata": {},
   "outputs": [],
   "source": [
    "# 定义一个在动画中绘制数据的实用程序类Animator\n",
    "from IPython import display\n",
    "\n",
    "\n",
    "class Animator:\n",
    "    \"\"\"在动画中绘制数据\"\"\"\n",
    "\n",
    "    def __init__(self, xlabel=None, ylabel=None, legend=None, xlim=None,\n",
    "                 ylim=None, xscale='linear', yscale='linear',\n",
    "                 fmts=('-', 'm--', 'g-.', 'r:'), nrows=1, ncols=1,\n",
    "                 figsize=(3.5, 2.5)):\n",
    "        # 绘制多条线\n",
    "        if legend is None:\n",
    "            legend = []\n",
    "        self.fig, self.axes = plt.subplots(nrows, ncols, figsize=figsize)\n",
    "        if nrows * ncols == 1:\n",
    "            self.axes = [self.axes, ]\n",
    "        # 使用lambda函数获取参数\n",
    "        self.config_axes = lambda: self.axes[0].set(\n",
    "            xlabel=xlabel, ylabel=ylabel, xlim=xlim, ylim=ylim)\n",
    "        self.X, self.Y, self.fmts = [], [], fmts  # 初始化\n",
    "\n",
    "    def add(self, x, y):\n",
    "        # 向图表中添加多个数据点\n",
    "        if not hasattr(y, \"__len__\"):\n",
    "            y = [y]\n",
    "        n = len(y)\n",
    "        if not hasattr(x, \"__len__\"):\n",
    "            x = [x] * n\n",
    "        if not self.X:\n",
    "            self.X = [[] for _ in range(n)]\n",
    "            self.Y = [[] for _ in range(n)]  # 初始化\n",
    "        for i, (a, b) in enumerate(zip(x, y)):\n",
    "            if a is not None and b is not None:\n",
    "                self.X[i].append(a)\n",
    "                self.Y[i].append(b)\n",
    "        self.axes[0].cla()\n",
    "        for x, y, fmt in zip(self.X, self.Y, self.fmts):\n",
    "            self.axes[0].plot(x, y, fmt)\n",
    "        self.config_axes()\n",
    "        display.display(self.fig)\n",
    "        display.clear_output(wait=True)"
   ]
  },
  {
   "cell_type": "code",
   "execution_count": null,
   "id": "d7b00a28-c0b1-4413-919a-12c5fb546495",
   "metadata": {},
   "outputs": [],
   "source": [
    "# 用Animator类可视化训练进度\n",
    "animator = Animator(xlabel='epoch', xlim=[1, num_epochs], ylim=[0.3, 1],\n",
    "                    legend=['train loss', 'train acc', 'test acc'])"
   ]
  },
  {
   "cell_type": "code",
   "execution_count": 88,
   "id": "f93d7c88-98a0-48ab-8c81-504a7d671abf",
   "metadata": {},
   "outputs": [],
   "source": [
    "import matplotlib.pyplot as plt\n",
    "import numpy as np\n",
    "\n",
    "\n",
    "def train_visual(net, train_iter, test_iter, loss, num_epochs, updater):\n",
    "    \"\"\"训练模型\"\"\"\n",
    "    # 创建空列表用于存储评估指标\n",
    "    epochs = []\n",
    "    losses = []\n",
    "    train_acc_ = []\n",
    "    test_acc_ = []\n",
    "\n",
    "    for epoch in range(num_epochs):\n",
    "        train_loss, train_acc = train_epoch(net, train_iter, loss, updater)\n",
    "        test_acc = evaluate_accuracy(net, test_iter)\n",
    "\n",
    "        epochs.append(epoch + 1)\n",
    "        losses.append(train_loss)\n",
    "        train_acc_.append(train_acc)\n",
    "        test_acc_.append(test_acc)\n",
    "\n",
    "        train_loss = round(train_loss, 4)\n",
    "        train_acc = round(train_acc, 4)\n",
    "        test_acc = round(test_acc, 4)\n",
    "\n",
    "        print(\n",
    "            f'epoch[{epoch + 1}/{num_epochs}], loss={train_loss} Train Accuracy={train_acc} Test Accuracy={test_acc}')\n",
    "\n",
    "        # 可视化\n",
    "    plt.figure(figsize=(8, 6))\n",
    "\n",
    "    plt.plot(epochs, losses, 'o-', color='#39C5BB', lw=2, label='Loss')\n",
    "    plt.plot(epochs, train_acc_, '.--', color='#FFE211',\n",
    "             lw=2, label='Train Accuracy')\n",
    "    plt.plot(epochs, test_acc_, '.--', color='#FAAFBE',\n",
    "             lw=2, label='Test Accuracy')\n",
    "\n",
    "    plt.xticks(np.arange(0, num_epochs+1, 1))\n",
    "    plt.xlabel('Epoch')\n",
    "    plt.ylabel('Metric')\n",
    "    plt.legend()\n",
    "\n",
    "    plt.show()\n",
    "\n",
    "    print('训练完成！')"
   ]
  },
  {
   "cell_type": "code",
   "execution_count": 89,
   "id": "455289b6-ff10-4a44-b467-9ac5a3c8528c",
   "metadata": {},
   "outputs": [
    {
     "name": "stdout",
     "output_type": "stream",
     "text": [
      "epoch[1/10], loss=0.4258 Train Accuracy=0.8545 Test Accuracy=0.8353\n",
      "epoch[2/10], loss=0.424 Train Accuracy=0.8551 Test Accuracy=0.8348\n",
      "epoch[3/10], loss=0.4218 Train Accuracy=0.8563 Test Accuracy=0.8341\n",
      "epoch[4/10], loss=0.4199 Train Accuracy=0.8567 Test Accuracy=0.839\n",
      "epoch[5/10], loss=0.4185 Train Accuracy=0.8569 Test Accuracy=0.8362\n",
      "epoch[6/10], loss=0.4172 Train Accuracy=0.8574 Test Accuracy=0.8371\n",
      "epoch[7/10], loss=0.4158 Train Accuracy=0.8576 Test Accuracy=0.8389\n",
      "epoch[8/10], loss=0.4145 Train Accuracy=0.8576 Test Accuracy=0.8385\n",
      "epoch[9/10], loss=0.4129 Train Accuracy=0.8579 Test Accuracy=0.8339\n",
      "epoch[10/10], loss=0.413 Train Accuracy=0.8584 Test Accuracy=0.8394\n"
     ]
    },
    {
     "data": {
      "image/png": "[encoded data removed]",
      "text/plain": [
       "<Figure size 800x600 with 1 Axes>"
      ]
     },
     "metadata": {},
     "output_type": "display_data"
    },
    {
     "name": "stdout",
     "output_type": "stream",
     "text": [
      "训练完成！\n"
     ]
    }
   ],
   "source": [
    "# 开始训练并可视化训练结果\n",
    "train_visual(net, train_iter, test_iter, loss, num_epochs, trainer)"
   ]
  }
 ],
 "metadata": {
  "kernelspec": {
   "display_name": "Torch",
   "language": "python",
   "name": "torch"
  },
  "language_info": {
   "codemirror_mode": {
    "name": "ipython",
    "version": 3
   },
   "file_extension": ".py",
   "mimetype": "text/x-python",
   "name": "python",
   "nbconvert_exporter": "python",
   "pygments_lexer": "ipython3",
   "version": "3.11.5"
  }
 },
 "nbformat": 4,
 "nbformat_minor": 5
}
